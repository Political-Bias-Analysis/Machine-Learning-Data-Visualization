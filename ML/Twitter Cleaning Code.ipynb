{
 "cells": [
  {
   "cell_type": "code",
   "execution_count": 1,
   "id": "f2837322",
   "metadata": {},
   "outputs": [],
   "source": [
    "import psycopg2\n",
    "import pandas as pd\n",
    "from sqlalchemy import create_engine\n",
    "import sqlite3\n",
    "from sqlite3 import IntegrityError\n",
    "from psycopg2 import errors"
   ]
  },
  {
   "cell_type": "code",
   "execution_count": 2,
   "id": "a0608be0",
   "metadata": {},
   "outputs": [
    {
     "name": "stderr",
     "output_type": "stream",
     "text": [
      "b'Skipping line 1652: expected 34 fields, saw 67\\n'\n"
     ]
    }
   ],
   "source": [
    "# read in the Excel file\n",
    "tw_2016 = pd.read_csv('result20160101-20170101.csv', error_bad_lines=False)\n",
    "tw_2017 = pd.read_csv('result20170101-20180101.csv', error_bad_lines=False)\n",
    "tw_2018 = pd.read_csv('result20180101-20190101.csv', error_bad_lines=False)\n",
    "tw_2019 = pd.read_csv('result20190101-20200101.csv', error_bad_lines=False)\n",
    "tw_2020 = pd.read_csv('result20200101-20210101.csv', error_bad_lines=False)\n",
    "tw_2021 = pd.read_csv('result20210101-20220101.csv', error_bad_lines=False)\n",
    "tw_2022 = pd.read_csv('result20220101-20230101.csv', error_bad_lines=False)"
   ]
  },
  {
   "cell_type": "code",
   "execution_count": 3,
   "id": "c1e4a7e5",
   "metadata": {},
   "outputs": [],
   "source": [
    "tw_list = [tw_2016, tw_2017, tw_2018, tw_2019, tw_2020, tw_2021, tw_2022]"
   ]
  },
  {
   "cell_type": "code",
   "execution_count": 4,
   "id": "507e80d3",
   "metadata": {},
   "outputs": [],
   "source": [
    "#extract the cols we need and rename them\n",
    "def extract_col(dataframe):\n",
    "    tw_elem_name = dataframe[[\"user.id\", \"create_at\", \"text\", \"geo_tag.cityName\", \"geo_tag.stateName\", \"user.name\"]]\n",
    "    tw_elem_name = tw_elem_name.rename(columns={\n",
    "            'user.id': 'user_id',\n",
    "            'create_at': 'date',\n",
    "            'text': 'tweet',\n",
    "            'geo_tag.cityName': 'city',\n",
    "            'geo_tag.stateName': 'state',\n",
    "            'user.name': \"user_name\"\n",
    "    })\n",
    "    return tw_elem_name"
   ]
  },
  {
   "cell_type": "code",
   "execution_count": 5,
   "id": "a4745e6f",
   "metadata": {},
   "outputs": [],
   "source": [
    "def remove_dup(df):\n",
    "    df = df.drop_duplicates(subset = [\"user_id\", \"date\", \"tweet\"], keep = \"first\")\n",
    "    return df"
   ]
  },
  {
   "cell_type": "code",
   "execution_count": 6,
   "id": "c91f3fd8",
   "metadata": {},
   "outputs": [],
   "source": [
    "tw_2016_select = remove_dup(extract_col(tw_2016))\n",
    "tw_2017_select = remove_dup(extract_col(tw_2017))\n",
    "tw_2018_select = remove_dup(extract_col(tw_2018))\n",
    "tw_2019_select = remove_dup(extract_col(tw_2019))\n",
    "tw_2020_select = remove_dup(extract_col(tw_2020))\n",
    "tw_2021_select = remove_dup(extract_col(tw_2021))\n",
    "tw_2022_select = remove_dup(extract_col(tw_2022))"
   ]
  },
  {
   "cell_type": "code",
   "execution_count": 7,
   "id": "ebe4ffeb",
   "metadata": {},
   "outputs": [],
   "source": [
    "dataframe_list = [tw_2016_select, tw_2017_select, tw_2018_select, tw_2019_select, tw_2020_select, tw_2021_select, tw_2022_select]\n",
    "for item in dataframe_list:\n",
    "    for index, r in item.iterrows():\n",
    "        try: \n",
    "            # Connect to your PostgreSQL database\n",
    "            conn = psycopg2.connect(\n",
    "                    database=\"senior_project\",\n",
    "                    user=\"postgres\",\n",
    "                    password=\"1668\",\n",
    "                    host=\"localhost\",\n",
    "                    port=\"5433\"\n",
    "            )\n",
    "            #create cursor obj\n",
    "            cursor_obj = conn.cursor()\n",
    "            cursor_obj.execute(\"INSERT INTO twitter (user_id, date, tweet, city, state, user_name) VALUES(%s, %s, %s, %s, %s, %s);\", \n",
    "                               (r['user_id'], r['date'], r['tweet'], r['city'], r['state'], r['user_name']))\n",
    "            # Commit the changes to the database\n",
    "            conn.commit()\n",
    "        except IntegrityError:\n",
    "            pass\n",
    "        except errors.UniqueViolation:\n",
    "            pass\n",
    "        finally:\n",
    "            if conn:\n",
    "                cursor_obj.close()\n",
    "                # Close the database connection\n",
    "                conn.close()"
   ]
  },
  {
   "cell_type": "markdown",
   "id": "39533845",
   "metadata": {},
   "source": [
    "59861 records total"
   ]
  }
 ],
 "metadata": {
  "kernelspec": {
   "display_name": "Python 3",
   "language": "python",
   "name": "python3"
  },
  "language_info": {
   "codemirror_mode": {
    "name": "ipython",
    "version": 3
   },
   "file_extension": ".py",
   "mimetype": "text/x-python",
   "name": "python",
   "nbconvert_exporter": "python",
   "pygments_lexer": "ipython3",
   "version": "3.8.8"
  }
 },
 "nbformat": 4,
 "nbformat_minor": 5
}
