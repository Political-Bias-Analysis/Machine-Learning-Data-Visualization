{
 "cells": [
  {
   "cell_type": "code",
   "execution_count": 40,
   "id": "a42dfca3",
   "metadata": {},
   "outputs": [],
   "source": [
    "from vaderSentiment.vaderSentiment import SentimentIntensityAnalyzer\n",
    "import psycopg2\n",
    "import pandas as pd\n",
    "import matplotlib.pyplot as plt\n",
    "from sqlalchemy import create_engine"
   ]
  },
  {
   "cell_type": "code",
   "execution_count": 2,
   "id": "063e6b18",
   "metadata": {},
   "outputs": [],
   "source": [
    "# function to print sentiments of the sentence.\n",
    "def sentiment_scores(sentence):\n",
    "    # Create a SentimentIntensityAnalyzer object.\n",
    "    sid_obj = SentimentIntensityAnalyzer()\n",
    "    # polarity_scores method of SentimentIntensityAnalyzer object gives a sentiment dictionary.\n",
    "    # which contains pos, neg, neu, and compound scores.\n",
    "    sentiment_dict = sid_obj.polarity_scores(sentence)\n",
    "    # decide sentiment as positive, negative and neutral\n",
    "    return sentiment_dict['compound']"
   ]
  },
  {
   "cell_type": "code",
   "execution_count": 3,
   "id": "8498e96c",
   "metadata": {},
   "outputs": [],
   "source": [
    "def print_sentiment_score(sentence):\n",
    "    sid_obj = SentimentIntensityAnalyzer()\n",
    "    # polarity_scores method of SentimentIntensityAnalyzer object gives a sentiment dictionary.\n",
    "    # which contains pos, neg, neu, and compound scores.\n",
    "    sentiment_dict = sid_obj.polarity_scores(sentence)\n",
    "    print(\"Overall sentiment dictionary is : \", sentiment_dict)\n",
    "    print(\"sentence was rated as \", sentiment_dict['neg']*100, \"% Negative\")\n",
    "    print(\"sentence was rated as \", sentiment_dict['neu']*100, \"% Neutral\")\n",
    "    print(\"sentence was rated as \", sentiment_dict['pos']*100, \"% Positive\")\n",
    "    print(\"Sentence Overall Rated As\", end = \" \")\n",
    "    # decide sentiment as positive, negative and neutral\n",
    "    if sentiment_dict['compound'] >= 0.05 :\n",
    "        print(\"Positive\")\n",
    "    elif sentiment_dict['compound'] <= - 0.05 :\n",
    "        print(\"Negative\")\n",
    "    else :\n",
    "        print(\"Neutral\")"
   ]
  },
  {
   "cell_type": "code",
   "execution_count": 4,
   "id": "89b9683d",
   "metadata": {},
   "outputs": [],
   "source": [
    "conn = psycopg2.connect(\n",
    "                    database=\"electiondb\",\n",
    "                    user=\"postgres\",\n",
    "                    password=\"1668\",\n",
    "                    host=\"localhost\",\n",
    "                    port=\"5433\"\n",
    "            )\n",
    "#10502 records\n",
    "immigration_query = \"SELECT * FROM twitter WHERE tweet ~* 'immigration' or tweet ~* 'undocumented' \\\n",
    "or tweet ~* 'asylum seekers' or tweet ~* 'refugees' or tweet ~* 'nationalism' or tweet ~* \\\n",
    "'border' or tweet ~* 'dreamers'or tweet ~* 'Xenophobia' or tweet ~* 'DACA';\"\n",
    "immigration_data = pd.read_sql(immigration_query, conn)\n",
    "\n",
    "#21958 records\n",
    "racial_query = \"SELECT * FROM twitter WHERE tweet ~* 'racial' or tweet ~* 'disparities' \\\n",
    "or tweet ~* 'white privilege' or tweet ~* 'black lives matter' or tweet ~* 'segregation' \\\n",
    "or tweet ~* 'critical race theory' or tweet ~* 'racial discrimination'or tweet ~* 'CRT' \\\n",
    "or tweet ~* 'woke' or tweet ~* 'wokeness'or tweet ~* 'criminal';\"\n",
    "racial_data = pd.read_sql(racial_query, conn)\n",
    "\n",
    "#6677 records\n",
    "abortion_query = \"SELECT * FROM twitter WHERE tweet ~* 'Abortion' or tweet ~* 'Pro-life' \\\n",
    "or tweet ~* 'pro-choice' or tweet ~* 'consent' or tweet ~* 'mifepristone' or tweet ~* 'abortion pill' \\\n",
    "or tweet ~* 'planned parenthood'or tweet ~* 'rape' or tweet ~* 'reproductive rights' or tweet ~* 'women’s right'\\\n",
    "or tweet ~* 'abortion bans' or tweet ~* 'birth control';\"\n",
    "abortion_data = pd.read_sql(abortion_query, conn)\n",
    "\n",
    "#21752 records\n",
    "socioeconomic_query = \"SELECT * FROM twitter WHERE tweet ~* 'socioeconomic' or tweet ~* 'poverty line' \\\n",
    "or tweet ~* 'class privilege' or tweet ~* 'working class' or tweet ~* 'pro-public assistance' \\\n",
    "or tweet ~* 'marginalized' or tweet ~* 'middle class'or tweet ~* 'poverty' or tweet ~* 'food stamps' \\\n",
    "or tweet ~* 'medicare' or tweet ~* 'medical' or tweet ~* 'rich'or tweet ~* 'wealthy';\"\n",
    "socioeconomic_data = pd.read_sql(socioeconomic_query, conn)\n",
    "\n",
    "conn.close()"
   ]
  },
  {
   "cell_type": "code",
   "execution_count": 9,
   "id": "50963879",
   "metadata": {},
   "outputs": [],
   "source": [
    "conn = psycopg2.connect(\n",
    "                    database=\"electiondb\",\n",
    "                    user=\"postgres\",\n",
    "                    password=\"1668\",\n",
    "                    host=\"localhost\",\n",
    "                    port=\"5433\"\n",
    "            )\n",
    "immigration_2016_query = \"SELECT * FROM twitter WHERE date between '2016-01-01' and '2016-11-30' and tweet ~* 'immigration' \\\n",
    "or tweet ~* 'undocumented' or tweet ~* 'asylum seekers' or tweet ~* 'refugees' or tweet ~* 'nationalism' or tweet ~* \\\n",
    "'border' or tweet ~* 'dreamers'or tweet ~* 'Xenophobia' or tweet ~* 'DACA';\"\n",
    "immigration_2016_data = pd.read_sql(immigration_2016_query, conn)\n",
    "\n",
    "immigration_2017_query = \"SELECT * FROM twitter WHERE date between '2017-01-01' and '2017-11-30' and tweet ~* 'immigration' \\\n",
    "or tweet ~* 'undocumented' or tweet ~* 'asylum seekers' or tweet ~* 'refugees' or tweet ~* 'nationalism' or tweet ~* \\\n",
    "'border' or tweet ~* 'dreamers'or tweet ~* 'Xenophobia' or tweet ~* 'DACA';\"\n",
    "immigration_2017_data = pd.read_sql(immigration_2017_query, conn)\n",
    "\n",
    "\n",
    "immigration_2018_query = \"SELECT * FROM twitter WHERE date between '2018-01-01' and '2018-11-30' and tweet ~* 'immigration' \\\n",
    "or tweet ~* 'undocumented' or tweet ~* 'asylum seekers' or tweet ~* 'refugees' or tweet ~* 'nationalism' or tweet ~* \\\n",
    "'border' or tweet ~* 'dreamers'or tweet ~* 'Xenophobia' or tweet ~* 'DACA';\"\n",
    "immigration_2018_data = pd.read_sql(immigration_2018_query, conn)\n",
    "\n",
    "\n",
    "immigration_2019_query = \"SELECT * FROM twitter WHERE date between '2019-01-01' and '2019-11-30' and tweet ~* 'immigration' \\\n",
    "or tweet ~* 'undocumented' or tweet ~* 'asylum seekers' or tweet ~* 'refugees' or tweet ~* 'nationalism' or tweet ~* \\\n",
    "'border' or tweet ~* 'dreamers'or tweet ~* 'Xenophobia' or tweet ~* 'DACA';\"\n",
    "immigration_2019_data = pd.read_sql(immigration_2019_query, conn)\n",
    "\n",
    "\n",
    "immigration_2020_query = \"SELECT * FROM twitter WHERE date between '2020-01-01' and '2020-11-30' and tweet ~* 'immigration' \\\n",
    "or tweet ~* 'undocumented' or tweet ~* 'asylum seekers' or tweet ~* 'refugees' or tweet ~* 'nationalism' or tweet ~* \\\n",
    "'border' or tweet ~* 'dreamers'or tweet ~* 'Xenophobia' or tweet ~* 'DACA';\"\n",
    "immigration_2020_data = pd.read_sql(immigration_2020_query, conn)\n",
    "\n",
    "\n",
    "immigration_2021_query = \"SELECT * FROM twitter WHERE date between '2021-01-01' and '2021-11-30' and tweet ~* 'immigration' \\\n",
    "or tweet ~* 'undocumented' or tweet ~* 'asylum seekers' or tweet ~* 'refugees' or tweet ~* 'nationalism' or tweet ~* \\\n",
    "'border' or tweet ~* 'dreamers'or tweet ~* 'Xenophobia' or tweet ~* 'DACA';\"\n",
    "immigration_2021_data = pd.read_sql(immigration_2021_query, conn)\n",
    "\n",
    "\n",
    "immigration_2022_query = \"SELECT * FROM twitter WHERE date between '2022-01-01' and '2022-11-30' and tweet ~* 'immigration' \\\n",
    "or tweet ~* 'undocumented' or tweet ~* 'asylum seekers' or tweet ~* 'refugees' or tweet ~* 'nationalism' or tweet ~* \\\n",
    "'border' or tweet ~* 'dreamers'or tweet ~* 'Xenophobia' or tweet ~* 'DACA';\"\n",
    "immigration_2022_data = pd.read_sql(immigration_2022_query, conn)"
   ]
  },
  {
   "cell_type": "code",
   "execution_count": 10,
   "id": "64936f45",
   "metadata": {},
   "outputs": [],
   "source": [
    "racial_2016_query = \"SELECT * FROM twitter WHERE date between '2016-01-01' and '2016-11-30' \\\n",
    "and tweet ~* 'racial' or tweet ~* 'disparities' or tweet ~* 'white privilege' or tweet ~* 'black lives matter' \\\n",
    "or tweet ~* 'segregation' or tweet ~* 'critical race theory' or tweet ~* 'racial discrimination'or tweet ~* 'CRT' \\\n",
    "or tweet ~* 'woke' or tweet ~* 'wokeness'or tweet ~* 'criminal';\"\n",
    "racial_2016_data = pd.read_sql(racial_2016_query, conn)\n",
    "\n",
    "racial_2017_query = \"SELECT * FROM twitter WHERE date between '2017-01-01' and '2017-11-30' \\\n",
    "and tweet ~* 'racial' or tweet ~* 'disparities' or tweet ~* 'white privilege' or tweet ~* 'black lives matter' \\\n",
    "or tweet ~* 'segregation' or tweet ~* 'critical race theory' or tweet ~* 'racial discrimination'or tweet ~* 'CRT' \\\n",
    "or tweet ~* 'woke' or tweet ~* 'wokeness'or tweet ~* 'criminal';\"\n",
    "racial_2017_data = pd.read_sql(racial_2017_query, conn)\n",
    "\n",
    "racial_2018_query = \"SELECT * FROM twitter WHERE date between '2018-01-01' and '2018-11-30' \\\n",
    "and tweet ~* 'racial' or tweet ~* 'disparities' or tweet ~* 'white privilege' or tweet ~* 'black lives matter' \\\n",
    "or tweet ~* 'segregation' or tweet ~* 'critical race theory' or tweet ~* 'racial discrimination'or tweet ~* 'CRT' \\\n",
    "or tweet ~* 'woke' or tweet ~* 'wokeness'or tweet ~* 'criminal';\"\n",
    "racial_2018_data = pd.read_sql(racial_2018_query, conn)\n",
    "\n",
    "racial_2019_query = \"SELECT * FROM twitter WHERE date between '2019-01-01' and '2019-11-30' \\\n",
    "and tweet ~* 'racial' or tweet ~* 'disparities' or tweet ~* 'white privilege' or tweet ~* 'black lives matter' \\\n",
    "or tweet ~* 'segregation' or tweet ~* 'critical race theory' or tweet ~* 'racial discrimination'or tweet ~* 'CRT' \\\n",
    "or tweet ~* 'woke' or tweet ~* 'wokeness'or tweet ~* 'criminal';\"\n",
    "racial_2019_data = pd.read_sql(racial_2019_query, conn)\n",
    "\n",
    "racial_2020_query = \"SELECT * FROM twitter WHERE date between '2020-01-01' and '2020-11-30' \\\n",
    "and tweet ~* 'racial' or tweet ~* 'disparities' or tweet ~* 'white privilege' or tweet ~* 'black lives matter' \\\n",
    "or tweet ~* 'segregation' or tweet ~* 'critical race theory' or tweet ~* 'racial discrimination'or tweet ~* 'CRT' \\\n",
    "or tweet ~* 'woke' or tweet ~* 'wokeness'or tweet ~* 'criminal';\"\n",
    "racial_2020_data = pd.read_sql(racial_2020_query, conn)\n",
    "\n",
    "racial_2021_query = \"SELECT * FROM twitter WHERE date between '2021-01-01' and '2021-11-30' \\\n",
    "and tweet ~* 'racial' or tweet ~* 'disparities' or tweet ~* 'white privilege' or tweet ~* 'black lives matter' \\\n",
    "or tweet ~* 'segregation' or tweet ~* 'critical race theory' or tweet ~* 'racial discrimination'or tweet ~* 'CRT' \\\n",
    "or tweet ~* 'woke' or tweet ~* 'wokeness'or tweet ~* 'criminal';\"\n",
    "racial_2021_data = pd.read_sql(racial_2021_query, conn)\n",
    "\n",
    "racial_2022_query = \"SELECT * FROM twitter WHERE date between '2022-01-01' and '2022-11-30' \\\n",
    "and tweet ~* 'racial' or tweet ~* 'disparities' or tweet ~* 'white privilege' or tweet ~* 'black lives matter' \\\n",
    "or tweet ~* 'segregation' or tweet ~* 'critical race theory' or tweet ~* 'racial discrimination'or tweet ~* 'CRT' \\\n",
    "or tweet ~* 'woke' or tweet ~* 'wokeness'or tweet ~* 'criminal';\"\n",
    "racial_2022_data = pd.read_sql(racial_2022_query, conn)"
   ]
  },
  {
   "cell_type": "code",
   "execution_count": 11,
   "id": "a4d2ce65",
   "metadata": {},
   "outputs": [],
   "source": [
    "abortion_2016_query = \"SELECT * FROM twitter WHERE date between '2016-01-01' and '2016-11-30' and tweet \\\n",
    "~* 'Abortion' or tweet ~* 'Pro-life' or tweet ~* 'pro-choice' or tweet ~* 'consent' or tweet ~* 'mifepristone' \\\n",
    "or tweet ~* 'abortion pill' or tweet ~* 'planned parenthood'or tweet ~* 'rape' or tweet ~* 'reproductive rights' \\\n",
    "or tweet ~* 'women’s right'or tweet ~* 'abortion bans' or tweet ~* 'birth control';\"\n",
    "abortion_2016_data = pd.read_sql(abortion_2016_query, conn)\n",
    "\n",
    "abortion_2017_query = \"SELECT * FROM twitter WHERE date between '2017-01-01' and '2017-11-30' and tweet \\\n",
    "~* 'Abortion' or tweet ~* 'Pro-life' or tweet ~* 'pro-choice' or tweet ~* 'consent' or tweet ~* 'mifepristone' \\\n",
    "or tweet ~* 'abortion pill' or tweet ~* 'planned parenthood'or tweet ~* 'rape' or tweet ~* 'reproductive rights' \\\n",
    "or tweet ~* 'women’s right'or tweet ~* 'abortion bans' or tweet ~* 'birth control';\"\n",
    "abortion_2017_data = pd.read_sql(abortion_2017_query, conn)\n",
    "\n",
    "abortion_2018_query = \"SELECT * FROM twitter WHERE date between '2018-01-01' and '2018-11-30' and tweet \\\n",
    "~* 'Abortion' or tweet ~* 'Pro-life' or tweet ~* 'pro-choice' or tweet ~* 'consent' or tweet ~* 'mifepristone' \\\n",
    "or tweet ~* 'abortion pill' or tweet ~* 'planned parenthood'or tweet ~* 'rape' or tweet ~* 'reproductive rights' \\\n",
    "or tweet ~* 'women’s right'or tweet ~* 'abortion bans' or tweet ~* 'birth control';\"\n",
    "abortion_2018_data = pd.read_sql(abortion_2018_query, conn)\n",
    "\n",
    "abortion_2019_query = \"SELECT * FROM twitter WHERE date between '2019-01-01' and '2019-11-30' and tweet \\\n",
    "~* 'Abortion' or tweet ~* 'Pro-life' or tweet ~* 'pro-choice' or tweet ~* 'consent' or tweet ~* 'mifepristone' \\\n",
    "or tweet ~* 'abortion pill' or tweet ~* 'planned parenthood'or tweet ~* 'rape' or tweet ~* 'reproductive rights' \\\n",
    "or tweet ~* 'women’s right'or tweet ~* 'abortion bans' or tweet ~* 'birth control';\"\n",
    "abortion_2019_data = pd.read_sql(abortion_2019_query, conn)\n",
    "\n",
    "abortion_2020_query = \"SELECT * FROM twitter WHERE date between '2020-01-01' and '2020-11-30' and tweet \\\n",
    "~* 'Abortion' or tweet ~* 'Pro-life' or tweet ~* 'pro-choice' or tweet ~* 'consent' or tweet ~* 'mifepristone' \\\n",
    "or tweet ~* 'abortion pill' or tweet ~* 'planned parenthood'or tweet ~* 'rape' or tweet ~* 'reproductive rights' \\\n",
    "or tweet ~* 'women’s right'or tweet ~* 'abortion bans' or tweet ~* 'birth control';\"\n",
    "abortion_2020_data = pd.read_sql(abortion_2020_query, conn)\n",
    "\n",
    "abortion_2021_query = \"SELECT * FROM twitter WHERE date between '2021-01-01' and '2021-11-30' and tweet \\\n",
    "~* 'Abortion' or tweet ~* 'Pro-life' or tweet ~* 'pro-choice' or tweet ~* 'consent' or tweet ~* 'mifepristone' \\\n",
    "or tweet ~* 'abortion pill' or tweet ~* 'planned parenthood'or tweet ~* 'rape' or tweet ~* 'reproductive rights' \\\n",
    "or tweet ~* 'women’s right'or tweet ~* 'abortion bans' or tweet ~* 'birth control';\"\n",
    "abortion_2021_data = pd.read_sql(abortion_2021_query, conn)\n",
    "\n",
    "abortion_2022_query = \"SELECT * FROM twitter WHERE date between '2022-01-01' and '2022-11-30' and tweet \\\n",
    "~* 'Abortion' or tweet ~* 'Pro-life' or tweet ~* 'pro-choice' or tweet ~* 'consent' or tweet ~* 'mifepristone' \\\n",
    "or tweet ~* 'abortion pill' or tweet ~* 'planned parenthood'or tweet ~* 'rape' or tweet ~* 'reproductive rights' \\\n",
    "or tweet ~* 'women’s right'or tweet ~* 'abortion bans' or tweet ~* 'birth control';\"\n",
    "abortion_2022_data = pd.read_sql(abortion_2022_query, conn)"
   ]
  },
  {
   "cell_type": "code",
   "execution_count": 12,
   "id": "db6e8cbd",
   "metadata": {},
   "outputs": [],
   "source": [
    "socioeconomic_2016_query = \"SELECT * FROM twitter WHERE date between'2016-01-01' and '2016-11-30' and tweet ~* 'socioeconomic' or tweet ~* 'poverty line' \\\n",
    "or tweet ~* 'class privilege' or tweet ~* 'working class' or tweet ~* 'pro-public assistance' \\\n",
    "or tweet ~* 'marginalized' or tweet ~* 'middle class'or tweet ~* 'poverty' or tweet ~* 'food stamps' \\\n",
    "or tweet ~* 'medicare' or tweet ~* 'medical' or tweet ~* 'rich'or tweet ~* 'wealthy';\"\n",
    "socioeconomic_2016_data = pd.read_sql(socioeconomic_2016_query, conn)\n",
    "\n",
    "socioeconomic_2017_query = \"SELECT * FROM twitter WHERE date between '2017-01-01' and '2017-11-30' and tweet ~* 'socioeconomic' or tweet ~* 'poverty line' \\\n",
    "or tweet ~* 'class privilege' or tweet ~* 'working class' or tweet ~* 'pro-public assistance' \\\n",
    "or tweet ~* 'marginalized' or tweet ~* 'middle class'or tweet ~* 'poverty' or tweet ~* 'food stamps' \\\n",
    "or tweet ~* 'medicare' or tweet ~* 'medical' or tweet ~* 'rich'or tweet ~* 'wealthy';\"\n",
    "socioeconomic_2017_data = pd.read_sql(socioeconomic_2017_query, conn)\n",
    "\n",
    "socioeconomic_2018_query = \"SELECT * FROM twitter WHERE date between '2018-01-01' and '2018-11-30' and tweet ~* 'socioeconomic' or tweet ~* 'poverty line' \\\n",
    "or tweet ~* 'class privilege' or tweet ~* 'working class' or tweet ~* 'pro-public assistance' \\\n",
    "or tweet ~* 'marginalized' or tweet ~* 'middle class'or tweet ~* 'poverty' or tweet ~* 'food stamps' \\\n",
    "or tweet ~* 'medicare' or tweet ~* 'medical' or tweet ~* 'rich'or tweet ~* 'wealthy';\"\n",
    "socioeconomic_2018_data = pd.read_sql(socioeconomic_2018_query, conn)\n",
    "\n",
    "socioeconomic_2019_query = \"SELECT * FROM twitter WHERE date between '2019-01-01' and '2019-11-30' and tweet ~* 'socioeconomic' or tweet ~* 'poverty line' \\\n",
    "or tweet ~* 'class privilege' or tweet ~* 'working class' or tweet ~* 'pro-public assistance' \\\n",
    "or tweet ~* 'marginalized' or tweet ~* 'middle class'or tweet ~* 'poverty' or tweet ~* 'food stamps' \\\n",
    "or tweet ~* 'medicare' or tweet ~* 'medical' or tweet ~* 'rich'or tweet ~* 'wealthy';\"\n",
    "socioeconomic_2019_data = pd.read_sql(socioeconomic_2019_query, conn)\n",
    "\n",
    "\n",
    "socioeconomic_2020_query = \"SELECT * FROM twitter WHERE date between '2020-01-01' and '2020-11-30' and tweet ~* 'socioeconomic' or tweet ~* 'poverty line' \\\n",
    "or tweet ~* 'class privilege' or tweet ~* 'working class' or tweet ~* 'pro-public assistance' \\\n",
    "or tweet ~* 'marginalized' or tweet ~* 'middle class'or tweet ~* 'poverty' or tweet ~* 'food stamps' \\\n",
    "or tweet ~* 'medicare' or tweet ~* 'medical' or tweet ~* 'rich'or tweet ~* 'wealthy';\"\n",
    "socioeconomic_2020_data = pd.read_sql(socioeconomic_2020_query, conn)\n",
    "\n",
    "socioeconomic_2021_query = \"SELECT * FROM twitter WHERE date between '2021-01-01' and '2021-11-30' and tweet ~* 'socioeconomic' or tweet ~* 'poverty line' \\\n",
    "or tweet ~* 'class privilege' or tweet ~* 'working class' or tweet ~* 'pro-public assistance' \\\n",
    "or tweet ~* 'marginalized' or tweet ~* 'middle class'or tweet ~* 'poverty' or tweet ~* 'food stamps' \\\n",
    "or tweet ~* 'medicare' or tweet ~* 'medical' or tweet ~* 'rich'or tweet ~* 'wealthy';\"\n",
    "socioeconomic_2021_data = pd.read_sql(socioeconomic_2021_query, conn)\n",
    "\n",
    "socioeconomic_2022_query = \"SELECT * FROM twitter WHERE date between '2022-01-01' and '2022-11-30' and tweet ~* 'socioeconomic' or tweet ~* 'poverty line' \\\n",
    "or tweet ~* 'class privilege' or tweet ~* 'working class' or tweet ~* 'pro-public assistance' \\\n",
    "or tweet ~* 'marginalized' or tweet ~* 'middle class'or tweet ~* 'poverty' or tweet ~* 'food stamps' \\\n",
    "or tweet ~* 'medicare' or tweet ~* 'medical' or tweet ~* 'rich'or tweet ~* 'wealthy';\"\n",
    "socioeconomic_2022_data = pd.read_sql(socioeconomic_2022_query, conn)"
   ]
  },
  {
   "cell_type": "code",
   "execution_count": 18,
   "id": "8a37b956",
   "metadata": {},
   "outputs": [],
   "source": [
    "def get_avg_score(data):\n",
    "    score_list = []\n",
    "    for i in range(len(data)):\n",
    "        test = data['tweet'][i]\n",
    "        score = sentiment_scores(test)\n",
    "        score_list.append(score)\n",
    "    return sum(score_list)/len(score_list)"
   ]
  },
  {
   "cell_type": "code",
   "execution_count": 30,
   "id": "2d801499",
   "metadata": {},
   "outputs": [],
   "source": [
    "sentiment_dataframe = {'Bias Term': [], \"Year\": [], \"Average Sentiment Score\": []}"
   ]
  },
  {
   "cell_type": "code",
   "execution_count": 31,
   "id": "1d723a76",
   "metadata": {},
   "outputs": [
    {
     "name": "stdout",
     "output_type": "stream",
     "text": [
      "[-0.05096551319648077, -0.05600606560759216, -0.054213366336633456, -0.055452275889484995, -0.05461149189411023, -0.055628119102536996, -0.0565244940538283]\n",
      "{'Bias Term': ['Immigration', 'Immigration', 'Immigration', 'Immigration', 'Immigration', 'Immigration', 'Immigration'], 'Year': ['2016', '2017', '2018', '2019', '2020', '2021', '2022'], 'Average Sentiment Score': [-0.05096551319648077, -0.05600606560759216, -0.054213366336633456, -0.055452275889484995, -0.05461149189411023, -0.055628119102536996, -0.0565244940538283]}\n"
     ]
    }
   ],
   "source": [
    "im_list = [immigration_2016_data, immigration_2017_data, immigration_2018_data, immigration_2019_data, immigration_2020_data, \n",
    "           immigration_2021_data, immigration_2022_data]\n",
    "im_term = [\"Immigration\"] * 7\n",
    "year_list = [\"2016\", \"2017\", \"2018\", \"2019\", \"2020\", \"2021\", \"2022\"]\n",
    "list_score = []\n",
    "for i in range(len(im_list)):\n",
    "    temp = get_avg_score(im_list[i])\n",
    "    list_score.append(temp)\n",
    "print(list_score)\n",
    "    \n",
    "for j in range(len(im_list)):\n",
    "    sentiment_dataframe[\"Bias Term\"].append(im_term[j])\n",
    "    sentiment_dataframe[\"Year\"].append(year_list[j])\n",
    "    sentiment_dataframe[\"Average Sentiment Score\"].append(list_score[j])\n",
    "print(sentiment_dataframe)"
   ]
  },
  {
   "cell_type": "code",
   "execution_count": 32,
   "id": "31b49613",
   "metadata": {},
   "outputs": [],
   "source": [
    "def list_of_avg_score(list_data):\n",
    "    list_score = []\n",
    "    for i in range(len(list_data)):\n",
    "        temp = get_avg_score(list_data[i])\n",
    "        list_score.append(temp)\n",
    "    return list_score"
   ]
  },
  {
   "cell_type": "code",
   "execution_count": 33,
   "id": "c8bc5245",
   "metadata": {},
   "outputs": [
    {
     "name": "stdout",
     "output_type": "stream",
     "text": [
      "{'Bias Term': ['Immigration', 'Immigration', 'Immigration', 'Immigration', 'Immigration', 'Immigration', 'Immigration', 'Racial', 'Racial', 'Racial', 'Racial', 'Racial', 'Racial', 'Racial'], 'Year': ['2016', '2017', '2018', '2019', '2020', '2021', '2022', '2016', '2017', '2018', '2019', '2020', '2021', '2022'], 'Average Sentiment Score': [-0.05096551319648077, -0.05600606560759216, -0.054213366336633456, -0.055452275889484995, -0.05461149189411023, -0.055628119102536996, -0.0565244940538283, -0.28751397110641114, -0.29178960515712943, -0.2917554422681315, -0.29069272678475383, -0.2882594618360866, -0.29284037962216647, -0.2921665888479823]}\n"
     ]
    }
   ],
   "source": [
    "race_list = [racial_2016_data, racial_2017_data, racial_2018_data, racial_2019_data, racial_2020_data, \n",
    "            racial_2021_data, racial_2022_data]\n",
    "race_term = [\"Racial\"] * 7\n",
    "list_score = list_of_avg_score(race_list)\n",
    "for j in range(len(race_list)):\n",
    "    sentiment_dataframe[\"Bias Term\"].append(race_term[j])\n",
    "    sentiment_dataframe[\"Year\"].append(year_list[j])\n",
    "    sentiment_dataframe[\"Average Sentiment Score\"].append(list_score[j])\n",
    "print(sentiment_dataframe)"
   ]
  },
  {
   "cell_type": "code",
   "execution_count": 16,
   "id": "fa39043d",
   "metadata": {},
   "outputs": [],
   "source": [
    "# def get_avg_score(data):\n",
    "#     dic = {}\n",
    "#     for i in range(len(data)):\n",
    "#         test = data['tweet'][i]\n",
    "#         score = sentiment_scores(test)\n",
    "#         if  score not in dic:\n",
    "#             dic[score] = 1\n",
    "#         else:\n",
    "#             dic[score] += 1\n",
    "#         i += 1\n",
    "#     return dic"
   ]
  },
  {
   "cell_type": "code",
   "execution_count": 35,
   "id": "629e1019",
   "metadata": {},
   "outputs": [
    {
     "name": "stdout",
     "output_type": "stream",
     "text": [
      "{'Bias Term': ['Immigration', 'Immigration', 'Immigration', 'Immigration', 'Immigration', 'Immigration', 'Immigration', 'Racial', 'Racial', 'Racial', 'Racial', 'Racial', 'Racial', 'Racial', 'Abortion', 'Abortion', 'Abortion', 'Abortion', 'Abortion', 'Abortion', 'Abortion'], 'Year': ['2016', '2017', '2018', '2019', '2020', '2021', '2022', '2016', '2017', '2018', '2019', '2020', '2021', '2022', '2016', '2017', '2018', '2019', '2020', '2021', '2022'], 'Average Sentiment Score': [-0.05096551319648077, -0.05600606560759216, -0.054213366336633456, -0.055452275889484995, -0.05461149189411023, -0.055628119102536996, -0.0565244940538283, -0.28751397110641114, -0.29178960515712943, -0.2917554422681315, -0.29069272678475383, -0.2882594618360866, -0.29284037962216647, -0.2921665888479823, -0.17529599290780123, -0.18043677229181998, -0.17176346360702735, -0.1742750872295881, -0.1683307746232035, -0.18286184738955796, -0.1463021308523408]}\n"
     ]
    }
   ],
   "source": [
    "ab_list = [abortion_2016_data, abortion_2017_data, abortion_2018_data, abortion_2019_data, abortion_2020_data, \n",
    "            abortion_2021_data, abortion_2022_data]\n",
    "ab_term = [\"Abortion\"] * 7\n",
    "list_score = list_of_avg_score(ab_list)\n",
    "for j in range(len(ab_list)):\n",
    "    sentiment_dataframe[\"Bias Term\"].append(ab_term[j])\n",
    "    sentiment_dataframe[\"Year\"].append(year_list[j])\n",
    "    sentiment_dataframe[\"Average Sentiment Score\"].append(list_score[j])\n",
    "print(sentiment_dataframe)"
   ]
  },
  {
   "cell_type": "code",
   "execution_count": 36,
   "id": "e0f3c730",
   "metadata": {},
   "outputs": [
    {
     "name": "stdout",
     "output_type": "stream",
     "text": [
      "{'Bias Term': ['Immigration', 'Immigration', 'Immigration', 'Immigration', 'Immigration', 'Immigration', 'Immigration', 'Racial', 'Racial', 'Racial', 'Racial', 'Racial', 'Racial', 'Racial', 'Abortion', 'Abortion', 'Abortion', 'Abortion', 'Abortion', 'Abortion', 'Abortion', 'Socioeconomic', 'Socioeconomic', 'Socioeconomic', 'Socioeconomic', 'Socioeconomic', 'Socioeconomic', 'Socioeconomic'], 'Year': ['2016', '2017', '2018', '2019', '2020', '2021', '2022', '2016', '2017', '2018', '2019', '2020', '2021', '2022', '2016', '2017', '2018', '2019', '2020', '2021', '2022', '2016', '2017', '2018', '2019', '2020', '2021', '2022'], 'Average Sentiment Score': [-0.05096551319648077, -0.05600606560759216, -0.054213366336633456, -0.055452275889484995, -0.05461149189411023, -0.055628119102536996, -0.0565244940538283, -0.28751397110641114, -0.29178960515712943, -0.2917554422681315, -0.29069272678475383, -0.2882594618360866, -0.29284037962216647, -0.2921665888479823, -0.17529599290780123, -0.18043677229181998, -0.17176346360702735, -0.1742750872295881, -0.1683307746232035, -0.18286184738955796, -0.1463021308523408, 0.0780825515947468, 0.0781664914783393, 0.07813907036119251, 0.07816940169656938, 0.07812573187209132, 0.07817650150150156, 0.07813907036119251]}\n"
     ]
    }
   ],
   "source": [
    "so_list = [socioeconomic_2016_data, socioeconomic_2017_data, socioeconomic_2018_data, socioeconomic_2019_data, \n",
    "           socioeconomic_2020_data, socioeconomic_2021_data, socioeconomic_2022_data]\n",
    "so_term = [\"Socioeconomic\"] * 7\n",
    "l_score = list_of_avg_score(so_list)\n",
    "for j in range(len(so_list)):\n",
    "    sentiment_dataframe[\"Bias Term\"].append(so_term[j])\n",
    "    sentiment_dataframe[\"Year\"].append(year_list[j])\n",
    "    sentiment_dataframe[\"Average Sentiment Score\"].append(l_score[j])\n",
    "print(sentiment_dataframe)"
   ]
  },
  {
   "cell_type": "code",
   "execution_count": 39,
   "id": "416233de",
   "metadata": {},
   "outputs": [
    {
     "name": "stdout",
     "output_type": "stream",
     "text": [
      "        Bias Term  Year  Average Sentiment Score\n",
      "0     Immigration  2016                -0.050966\n",
      "1     Immigration  2017                -0.056006\n",
      "2     Immigration  2018                -0.054213\n",
      "3     Immigration  2019                -0.055452\n",
      "4     Immigration  2020                -0.054611\n",
      "5     Immigration  2021                -0.055628\n",
      "6     Immigration  2022                -0.056524\n",
      "7          Racial  2016                -0.287514\n",
      "8          Racial  2017                -0.291790\n",
      "9          Racial  2018                -0.291755\n",
      "10         Racial  2019                -0.290693\n",
      "11         Racial  2020                -0.288259\n",
      "12         Racial  2021                -0.292840\n",
      "13         Racial  2022                -0.292167\n",
      "14       Abortion  2016                -0.175296\n",
      "15       Abortion  2017                -0.180437\n",
      "16       Abortion  2018                -0.171763\n",
      "17       Abortion  2019                -0.174275\n",
      "18       Abortion  2020                -0.168331\n",
      "19       Abortion  2021                -0.182862\n",
      "20       Abortion  2022                -0.146302\n",
      "21  Socioeconomic  2016                 0.078083\n",
      "22  Socioeconomic  2017                 0.078166\n",
      "23  Socioeconomic  2018                 0.078139\n",
      "24  Socioeconomic  2019                 0.078169\n",
      "25  Socioeconomic  2020                 0.078126\n",
      "26  Socioeconomic  2021                 0.078177\n",
      "27  Socioeconomic  2022                 0.078139\n"
     ]
    }
   ],
   "source": [
    "sentiment = pd.DataFrame(sentiment_dataframe)\n",
    "print(sentiment)"
   ]
  },
  {
   "cell_type": "code",
   "execution_count": 43,
   "id": "0dd2abbe",
   "metadata": {},
   "outputs": [],
   "source": [
    "DATABASE = \"electiondb\"\n",
    "USER = \"postgres\"\n",
    "PASSWORD = \"1668\"\n",
    "HOST = \"localhost\"\n",
    "PORT = \"5433\"\n",
    "\n",
    "# Connect to your PostgreSQL database\n",
    "conn = psycopg2.connect(\n",
    "    database=DATABASE,\n",
    "    user=USER,\n",
    "    password=PASSWORD,\n",
    "    host=HOST,\n",
    "    port=PORT\n",
    ")\n",
    "\n",
    "# Create a sqlalchemy engine\n",
    "engine = create_engine(f\"postgresql://{USER}:{PASSWORD}@{HOST}:{PORT}/{DATABASE}\")\n",
    "\n",
    "# Upload the data frames to the database using the voters table\n",
    "sentiment.to_sql(\"sentiment_score\", engine, if_exists=\"append\", index=False)\n",
    "\n",
    "# Commit the changes to the database\n",
    "conn.commit()\n",
    "\n",
    "# Close the database connection\n",
    "conn.close()"
   ]
  },
  {
   "cell_type": "code",
   "execution_count": 6,
   "id": "eae9383c",
   "metadata": {},
   "outputs": [
    {
     "name": "stdout",
     "output_type": "stream",
     "text": [
      "{'Negative': 5298, 'Positive': 3995, 'Neutral': 1261}\n"
     ]
    }
   ],
   "source": [
    "immigration_dict = get_avg_score(immigration_data)\n",
    "print(immigration_dict)"
   ]
  },
  {
   "cell_type": "code",
   "execution_count": 7,
   "id": "348275bb",
   "metadata": {},
   "outputs": [
    {
     "name": "stdout",
     "output_type": "stream",
     "text": [
      "{'Negative': 15328, 'Positive': 5223, 'Neutral': 1407}\n"
     ]
    }
   ],
   "source": [
    "racial_dict = get_avg_score(racial_data)\n",
    "print(racial_dict)"
   ]
  },
  {
   "cell_type": "code",
   "execution_count": 8,
   "id": "730dac75",
   "metadata": {},
   "outputs": [],
   "source": [
    "abortion_dict = get_avg_score(abortion_data)"
   ]
  },
  {
   "cell_type": "code",
   "execution_count": 9,
   "id": "2bd1ae25",
   "metadata": {},
   "outputs": [
    {
     "name": "stdout",
     "output_type": "stream",
     "text": [
      "{'Positive': 2551, 'Negative': 3612, 'Neutral': 654}\n"
     ]
    }
   ],
   "source": [
    "print(abortion_dict)"
   ]
  },
  {
   "cell_type": "code",
   "execution_count": 10,
   "id": "e29a8f30",
   "metadata": {},
   "outputs": [
    {
     "name": "stdout",
     "output_type": "stream",
     "text": [
      "{'Neutral': 2603, 'Positive': 10496, 'Negative': 8657}\n"
     ]
    }
   ],
   "source": [
    "socioecon_dict = get_avg_score(socioeconomic_data)\n",
    "print(socioecon_dict)"
   ]
  },
  {
   "cell_type": "code",
   "execution_count": 12,
   "id": "2f3028fd",
   "metadata": {},
   "outputs": [],
   "source": [
    "immigration_dict = dict(sorted(immigration_dict.items(), key=lambda item: item[1], reverse=True))\n",
    "racial_dict = dict(sorted(racial_dict.items(), key=lambda item: item[1], reverse=True))\n",
    "abortion_dict = dict(sorted(abortion_dict.items(), key=lambda item: item[1], reverse=True))\n",
    "socioecon_dict = dict(sorted(socioecon_dict.items(), key=lambda item: item[1], reverse=True))"
   ]
  },
  {
   "cell_type": "code",
   "execution_count": 15,
   "id": "e8fd54f0",
   "metadata": {},
   "outputs": [
    {
     "data": {
      "image/png": "[encoded data removed]",
      "text/plain": [
       "<Figure size 1080x720 with 4 Axes>"
      ]
     },
     "metadata": {
      "needs_background": "light"
     },
     "output_type": "display_data"
    }
   ],
   "source": [
    "fig, ax = plt.subplots(2, 2, figsize=(15, 10))\n",
    "ax[0][0].bar(immigration_dict.keys(), immigration_dict.values())\n",
    "ax[0][0].set_xticks(range(len(immigration_dict)))\n",
    "ax[0][0].set_xticklabels(list(immigration_dict.keys()), fontsize = 14)\n",
    "ax[0][0].set_ylabel('Count', fontsize = 14)\n",
    "ax[0][0].set_title(f'Sentiment Count for the term: \"Immigration\"', fontsize = 18, loc = \"center\", y = 1.08)\n",
    "\n",
    "\n",
    "ax[0][1].bar(racial_dict.keys(), racial_dict.values())\n",
    "ax[0][1].set_xticks(range(len(racial_dict)))\n",
    "ax[0][1].set_xticklabels(list(racial_dict.keys()), fontsize = 14)\n",
    "ax[0][1].set_ylabel('Count', fontsize = 14)\n",
    "ax[0][1].set_title(f'Sentiment Count for the term: \"Racial\"', fontsize = 18, loc = \"center\", y = 1.08)\n",
    "\n",
    "ax[1][0].bar(abortion_dict.keys(), abortion_dict.values())\n",
    "ax[1][0].set_xticks(range(len(abortion_dict)))\n",
    "ax[1][0].set_xticklabels(list(abortion_dict.keys()), fontsize = 14)\n",
    "ax[1][0].set_ylabel('Count', fontsize = 14)\n",
    "ax[1][0].set_title(f'Sentiment Count for the term: \"Abortion\"', fontsize = 18, loc = \"center\", y = 1)\n",
    "\n",
    "\n",
    "ax[1][1].bar(socioecon_dict.keys(), socioecon_dict.values())\n",
    "ax[1][1].set_xticks(range(len(socioecon_dict)))\n",
    "ax[1][1].set_xticklabels(list(socioecon_dict.keys()), fontsize = 14)\n",
    "ax[1][1].set_ylabel('Count', fontsize = 14)\n",
    "ax[1][1].set_title(f'Sentiment Count for the term: \"Socioeconomic\"', fontsize = 18, loc = \"center\", y = 1)\n",
    "\n",
    "\n",
    "plt.show()"
   ]
  },
  {
   "cell_type": "code",
   "execution_count": null,
   "id": "32d5eff7",
   "metadata": {},
   "outputs": [],
   "source": [
    "create_visual(immigration_dict, \"Immigration\")"
   ]
  },
  {
   "cell_type": "markdown",
   "id": "196d89d6",
   "metadata": {},
   "source": [
    "Immigration: {'Negative': 5298, 'Positive': 3995, 'Neutral': 1261}"
   ]
  },
  {
   "cell_type": "markdown",
   "id": "9346db99",
   "metadata": {},
   "source": [
    "Racial: {'Negative': 15328, 'Positive': 5223, 'Neutral': 1407}"
   ]
  },
  {
   "cell_type": "markdown",
   "id": "9512758c",
   "metadata": {},
   "source": [
    "Abortion: {'Positive': 2551, 'Negative': 3612, 'Neutral': 654}"
   ]
  },
  {
   "cell_type": "markdown",
   "id": "7bd4df61",
   "metadata": {},
   "source": [
    "Socioeconomic: {'Neutral': 2603, 'Positive': 10496, 'Negative': 8657}"
   ]
  },
  {
   "cell_type": "code",
   "execution_count": null,
   "id": "ef032e67",
   "metadata": {},
   "outputs": [],
   "source": []
  }
 ],
 "metadata": {
  "kernelspec": {
   "display_name": "Python 3",
   "language": "python",
   "name": "python3"
  },
  "language_info": {
   "codemirror_mode": {
    "name": "ipython",
    "version": 3
   },
   "file_extension": ".py",
   "mimetype": "text/x-python",
   "name": "python",
   "nbconvert_exporter": "python",
   "pygments_lexer": "ipython3",
   "version": "3.8.8"
  }
 },
 "nbformat": 4,
 "nbformat_minor": 5
}
