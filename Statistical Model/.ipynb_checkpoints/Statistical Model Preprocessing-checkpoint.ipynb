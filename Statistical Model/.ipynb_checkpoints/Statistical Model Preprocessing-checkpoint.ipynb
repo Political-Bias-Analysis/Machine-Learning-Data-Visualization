{
 "cells": [
  {
   "cell_type": "code",
   "execution_count": 35,
   "id": "c802994b",
   "metadata": {},
   "outputs": [],
   "source": [
    "import psycopg2\n",
    "import pandas as pd\n",
    "from sqlalchemy import create_engine\n",
    "import sqlite3\n",
    "from sqlite3 import IntegrityError\n",
    "from psycopg2 import errors"
   ]
  },
  {
   "cell_type": "code",
   "execution_count": 36,
   "id": "c792e03d",
   "metadata": {},
   "outputs": [],
   "source": [
    "article = pd.read_csv('articles.csv')\n",
    "twitter = pd.read_csv('twitter_sentiment.csv')"
   ]
  },
  {
   "cell_type": "code",
   "execution_count": 37,
   "id": "1812fd9e",
   "metadata": {},
   "outputs": [],
   "source": [
    "def transpose_dataframe(df):\n",
    "    dic = {'Year': [2016, 2017, 2018, 2019, 2020, 2021, 2022], 'Immigration': [], 'Racial': [], \"Abortion\": [], 'Socioeconomic': []}\n",
    "    for index, row in df.iterrows():\n",
    "        key = row['Bias Term']\n",
    "        dic[key].append(row['Average Sentiment Score'])\n",
    "    return dic"
   ]
  },
  {
   "cell_type": "code",
   "execution_count": 34,
   "id": "93b3ccd3",
   "metadata": {},
   "outputs": [],
   "source": [
    "# DATABASE = \"electiondb\"\n",
    "# USER = \"postgres\"\n",
    "# PASSWORD = \"1668\"\n",
    "# HOST = \"localhost\"\n",
    "# PORT = \"5433\"\n",
    "\n",
    "# # Connect to your PostgreSQL database\n",
    "# conn = psycopg2.connect(\n",
    "#     database=DATABASE,\n",
    "#     user=USER,\n",
    "#     password=PASSWORD,\n",
    "#     host=HOST,\n",
    "#     port=PORT\n",
    "# )\n",
    "\n",
    "# # Create a sqlalchemy engine\n",
    "# engine = create_engine(f\"postgresql://{USER}:{PASSWORD}@{HOST}:{PORT}/{DATABASE}\")\n",
    "\n",
    "# # Upload the data frames to the database using the voters table\n",
    "# twitter_data.to_sql(\"twitter_sentiment\", engine, if_exists=\"append\", index=False)\n",
    "\n",
    "# # Commit the changes to the database\n",
    "# conn.commit()\n",
    "\n",
    "# # Close the database connection\n",
    "# conn.close()"
   ]
  },
  {
   "cell_type": "code",
   "execution_count": 39,
   "id": "c04c043c",
   "metadata": {},
   "outputs": [
    {
     "data": {
      "text/html": [
       "<div>\n",
       "<style scoped>\n",
       "    .dataframe tbody tr th:only-of-type {\n",
       "        vertical-align: middle;\n",
       "    }\n",
       "\n",
       "    .dataframe tbody tr th {\n",
       "        vertical-align: top;\n",
       "    }\n",
       "\n",
       "    .dataframe thead th {\n",
       "        text-align: right;\n",
       "    }\n",
       "</style>\n",
       "<table border=\"1\" class=\"dataframe\">\n",
       "  <thead>\n",
       "    <tr style=\"text-align: right;\">\n",
       "      <th></th>\n",
       "      <th>year</th>\n",
       "      <th>source</th>\n",
       "      <th>published</th>\n",
       "      <th>content</th>\n",
       "      <th>abortion</th>\n",
       "      <th>race</th>\n",
       "      <th>immigration</th>\n",
       "      <th>socio_eco</th>\n",
       "      <th>norm_neg</th>\n",
       "      <th>norm_pos</th>\n",
       "      <th>compound</th>\n",
       "    </tr>\n",
       "  </thead>\n",
       "  <tbody>\n",
       "    <tr>\n",
       "      <th>0</th>\n",
       "      <td>2016</td>\n",
       "      <td>CBS</td>\n",
       "      <td>2016-11-16 00:00:00</td>\n",
       "      <td>in the wake of the election the antidefamation...</td>\n",
       "      <td>planned parenthood</td>\n",
       "      <td>NaN</td>\n",
       "      <td>NaN</td>\n",
       "      <td>NaN</td>\n",
       "      <td>0.666667</td>\n",
       "      <td>0.333333</td>\n",
       "      <td>-0.9989</td>\n",
       "    </tr>\n",
       "    <tr>\n",
       "      <th>1</th>\n",
       "      <td>2016</td>\n",
       "      <td>CBS</td>\n",
       "      <td>2016-12-15 00:00:00</td>\n",
       "      <td>u intelligence source be not just point the fi...</td>\n",
       "      <td>planned parenthood</td>\n",
       "      <td>NaN</td>\n",
       "      <td>NaN</td>\n",
       "      <td>NaN</td>\n",
       "      <td>0.455696</td>\n",
       "      <td>0.544304</td>\n",
       "      <td>0.8768</td>\n",
       "    </tr>\n",
       "    <tr>\n",
       "      <th>2</th>\n",
       "      <td>2017</td>\n",
       "      <td>CBS</td>\n",
       "      <td>2017-06-20 00:00:00</td>\n",
       "      <td>tuesday special election in georgia 6th congre...</td>\n",
       "      <td>planned parenthood</td>\n",
       "      <td>NaN</td>\n",
       "      <td>NaN</td>\n",
       "      <td>NaN</td>\n",
       "      <td>0.595890</td>\n",
       "      <td>0.404110</td>\n",
       "      <td>-0.9698</td>\n",
       "    </tr>\n",
       "    <tr>\n",
       "      <th>3</th>\n",
       "      <td>2017</td>\n",
       "      <td>CBS</td>\n",
       "      <td>2017-06-22 00:00:00</td>\n",
       "      <td>senate republican unveiled a discussion draft ...</td>\n",
       "      <td>planned parenthood</td>\n",
       "      <td>NaN</td>\n",
       "      <td>NaN</td>\n",
       "      <td>NaN</td>\n",
       "      <td>0.410448</td>\n",
       "      <td>0.589552</td>\n",
       "      <td>0.9830</td>\n",
       "    </tr>\n",
       "    <tr>\n",
       "      <th>4</th>\n",
       "      <td>2017</td>\n",
       "      <td>CBS</td>\n",
       "      <td>2017-04-04 00:00:00</td>\n",
       "      <td>chelsea clinton on tuesday express doubt that ...</td>\n",
       "      <td>planned parenthood</td>\n",
       "      <td>NaN</td>\n",
       "      <td>NaN</td>\n",
       "      <td>NaN</td>\n",
       "      <td>0.301980</td>\n",
       "      <td>0.698020</td>\n",
       "      <td>0.9893</td>\n",
       "    </tr>\n",
       "  </tbody>\n",
       "</table>\n",
       "</div>"
      ],
      "text/plain": [
       "   year source            published  \\\n",
       "0  2016    CBS  2016-11-16 00:00:00   \n",
       "1  2016    CBS  2016-12-15 00:00:00   \n",
       "2  2017    CBS  2017-06-20 00:00:00   \n",
       "3  2017    CBS  2017-06-22 00:00:00   \n",
       "4  2017    CBS  2017-04-04 00:00:00   \n",
       "\n",
       "                                             content            abortion race  \\\n",
       "0  in the wake of the election the antidefamation...  planned parenthood  NaN   \n",
       "1  u intelligence source be not just point the fi...  planned parenthood  NaN   \n",
       "2  tuesday special election in georgia 6th congre...  planned parenthood  NaN   \n",
       "3  senate republican unveiled a discussion draft ...  planned parenthood  NaN   \n",
       "4  chelsea clinton on tuesday express doubt that ...  planned parenthood  NaN   \n",
       "\n",
       "  immigration socio_eco  norm_neg  norm_pos  compound  \n",
       "0         NaN       NaN  0.666667  0.333333   -0.9989  \n",
       "1         NaN       NaN  0.455696  0.544304    0.8768  \n",
       "2         NaN       NaN  0.595890  0.404110   -0.9698  \n",
       "3         NaN       NaN  0.410448  0.589552    0.9830  \n",
       "4         NaN       NaN  0.301980  0.698020    0.9893  "
      ]
     },
     "execution_count": 39,
     "metadata": {},
     "output_type": "execute_result"
    }
   ],
   "source": [
    "article.head()"
   ]
  },
  {
   "cell_type": "code",
   "execution_count": 41,
   "id": "1fb59f10",
   "metadata": {},
   "outputs": [
    {
     "data": {
      "text/html": [
       "<div>\n",
       "<style scoped>\n",
       "    .dataframe tbody tr th:only-of-type {\n",
       "        vertical-align: middle;\n",
       "    }\n",
       "\n",
       "    .dataframe tbody tr th {\n",
       "        vertical-align: top;\n",
       "    }\n",
       "\n",
       "    .dataframe thead th {\n",
       "        text-align: right;\n",
       "    }\n",
       "</style>\n",
       "<table border=\"1\" class=\"dataframe\">\n",
       "  <thead>\n",
       "    <tr style=\"text-align: right;\">\n",
       "      <th></th>\n",
       "      <th>Year</th>\n",
       "      <th>Immigration</th>\n",
       "      <th>Racial</th>\n",
       "      <th>Abortion</th>\n",
       "      <th>Socioeconomic</th>\n",
       "    </tr>\n",
       "  </thead>\n",
       "  <tbody>\n",
       "    <tr>\n",
       "      <th>0</th>\n",
       "      <td>2016</td>\n",
       "      <td>-0.050966</td>\n",
       "      <td>-0.287514</td>\n",
       "      <td>-0.175296</td>\n",
       "      <td>0.078083</td>\n",
       "    </tr>\n",
       "    <tr>\n",
       "      <th>1</th>\n",
       "      <td>2017</td>\n",
       "      <td>-0.056006</td>\n",
       "      <td>-0.291790</td>\n",
       "      <td>-0.180437</td>\n",
       "      <td>0.078166</td>\n",
       "    </tr>\n",
       "    <tr>\n",
       "      <th>2</th>\n",
       "      <td>2018</td>\n",
       "      <td>-0.054213</td>\n",
       "      <td>-0.291755</td>\n",
       "      <td>-0.171763</td>\n",
       "      <td>0.078139</td>\n",
       "    </tr>\n",
       "    <tr>\n",
       "      <th>3</th>\n",
       "      <td>2019</td>\n",
       "      <td>-0.055452</td>\n",
       "      <td>-0.290693</td>\n",
       "      <td>-0.174275</td>\n",
       "      <td>0.078169</td>\n",
       "    </tr>\n",
       "    <tr>\n",
       "      <th>4</th>\n",
       "      <td>2020</td>\n",
       "      <td>-0.054611</td>\n",
       "      <td>-0.288259</td>\n",
       "      <td>-0.168331</td>\n",
       "      <td>0.078126</td>\n",
       "    </tr>\n",
       "  </tbody>\n",
       "</table>\n",
       "</div>"
      ],
      "text/plain": [
       "   Year  Immigration    Racial  Abortion  Socioeconomic\n",
       "0  2016    -0.050966 -0.287514 -0.175296       0.078083\n",
       "1  2017    -0.056006 -0.291790 -0.180437       0.078166\n",
       "2  2018    -0.054213 -0.291755 -0.171763       0.078139\n",
       "3  2019    -0.055452 -0.290693 -0.174275       0.078169\n",
       "4  2020    -0.054611 -0.288259 -0.168331       0.078126"
      ]
     },
     "execution_count": 41,
     "metadata": {},
     "output_type": "execute_result"
    }
   ],
   "source": [
    "twitter.head()"
   ]
  },
  {
   "cell_type": "markdown",
   "id": "09e91d07",
   "metadata": {},
   "source": [
    "## Extract immigration data"
   ]
  },
  {
   "cell_type": "code",
   "execution_count": 50,
   "id": "3461025a",
   "metadata": {},
   "outputs": [
    {
     "name": "stdout",
     "output_type": "stream",
     "text": [
      "       year source  compound\n",
      "2589   2018    CBS    0.9979\n",
      "2590   2018    CBS    0.9454\n",
      "2591   2018    CBS   -0.7946\n",
      "2592   2018    CBS    0.9993\n",
      "2593   2018    CBS    0.9904\n",
      "...     ...    ...       ...\n",
      "13076  2020    NPR    0.9406\n",
      "13077  2020    NPR   -0.9744\n",
      "13078  2020    NPR    0.9991\n",
      "13079  2020    NPR    0.9998\n",
      "13080  2020    NPR   -0.9929\n",
      "\n",
      "[8013 rows x 3 columns]\n"
     ]
    }
   ],
   "source": [
    "# Dataframe with immigration articles\n",
    "condition = article['immigration'].notnull()\n",
    "\n",
    "selected_immigration = article.loc[condition, ['year', 'source', 'compound']]\n",
    "print(selected_immigration)"
   ]
  },
  {
   "cell_type": "code",
   "execution_count": 52,
   "id": "014d07fe",
   "metadata": {},
   "outputs": [],
   "source": [
    "im_2016 = selected_immigration[selected_immigration['year']== 2016]\n",
    "im_2017 = selected_immigration[selected_immigration['year']== 2017]\n",
    "im_2018 = selected_immigration[selected_immigration['year']== 2018]\n",
    "im_2019 = selected_immigration[selected_immigration['year']== 2019]\n",
    "im_2020 = selected_immigration[selected_immigration['year']== 2020]"
   ]
  },
  {
   "cell_type": "code",
   "execution_count": 54,
   "id": "86e8c814",
   "metadata": {},
   "outputs": [],
   "source": [
    "def take_avg(list_of_compound):\n",
    "    return sum(list_of_compound)/len(list_of_compound)"
   ]
  },
  {
   "cell_type": "code",
   "execution_count": 64,
   "id": "1e24a760",
   "metadata": {},
   "outputs": [],
   "source": [
    "article_sentiment = {'Year': [2016, 2017, 2018, 2019, 2020], 'Immigration': [], 'Racial': [], 'Abortion': [], 'Socioeconomic': []}\n",
    "def get_avg(df):\n",
    "    avg = take_avg(df['compound'])\n",
    "    return avg"
   ]
  },
  {
   "cell_type": "code",
   "execution_count": 65,
   "id": "8b3958e9",
   "metadata": {},
   "outputs": [
    {
     "name": "stdout",
     "output_type": "stream",
     "text": [
      "{'Year': [2016, 2017, 2018, 2019, 2020], 'Immigration': [0.34002094196804006, 0.3146608900876598, 0.34094116871704794, 0.31850441952506564, 0.2852006459948315], 'Racial': [], 'Abortion': [], 'Socioeconomic': []}\n"
     ]
    }
   ],
   "source": [
    "im_list = [im_2016, im_2017, im_2018, im_2019, im_2020]\n",
    "for item in im_list:\n",
    "    temp = get_avg(item)\n",
    "    article_sentiment['Immigration'].append(temp)\n",
    "print(article_sentiment)"
   ]
  },
  {
   "cell_type": "markdown",
   "id": "47cc0156",
   "metadata": {},
   "source": [
    "## Extract Racial Data"
   ]
  },
  {
   "cell_type": "code",
   "execution_count": 61,
   "id": "a727626f",
   "metadata": {},
   "outputs": [
    {
     "name": "stdout",
     "output_type": "stream",
     "text": [
      "      year source  compound\n",
      "27    2016    CNN   -0.9935\n",
      "28    2016    CNN    0.9997\n",
      "29    2016    CNN   -0.9951\n",
      "30    2016    CNN   -0.9919\n",
      "102   2016    CNN    0.9815\n",
      "...    ...    ...       ...\n",
      "5125  2020    NPR    0.9989\n",
      "5126  2020    NPR    0.9775\n",
      "5127  2020    NPR    0.9137\n",
      "5128  2020    NPR    0.9812\n",
      "5129  2020    NPR   -0.7957\n",
      "\n",
      "[2952 rows x 3 columns]\n"
     ]
    }
   ],
   "source": [
    "# Dataframe with immigration articles\n",
    "condition = article['race'].notnull()\n",
    "\n",
    "selected_racial = article.loc[condition, ['year', 'source', 'compound']]\n",
    "print(selected_racial)"
   ]
  },
  {
   "cell_type": "code",
   "execution_count": 62,
   "id": "fb266bf6",
   "metadata": {},
   "outputs": [],
   "source": [
    "ra_2016 = selected_racial[selected_racial['year']== 2016]\n",
    "ra_2017 = selected_racial[selected_racial['year']== 2017]\n",
    "ra_2018 = selected_racial[selected_racial['year']== 2018]\n",
    "ra_2019 = selected_racial[selected_racial['year']== 2019]\n",
    "ra_2020 = selected_racial[selected_racial['year']== 2020]"
   ]
  },
  {
   "cell_type": "code",
   "execution_count": 66,
   "id": "76ebe8e6",
   "metadata": {},
   "outputs": [
    {
     "name": "stdout",
     "output_type": "stream",
     "text": [
      "{'Year': [2016, 2017, 2018, 2019, 2020], 'Immigration': [0.34002094196804006, 0.3146608900876598, 0.34094116871704794, 0.31850441952506564, 0.2852006459948315], 'Racial': [0.29553961218836583, 0.3660570850202431, 0.41591496402877665, 0.38278146214099185, 0.2136149289099527], 'Abortion': [], 'Socioeconomic': []}\n"
     ]
    }
   ],
   "source": [
    "ra_list = [ra_2016, ra_2017, ra_2018, ra_2019, ra_2020]\n",
    "for item in ra_list:\n",
    "    temp = get_avg(item)\n",
    "    article_sentiment['Racial'].append(temp)\n",
    "print(article_sentiment)"
   ]
  },
  {
   "cell_type": "markdown",
   "id": "7c32151a",
   "metadata": {},
   "source": [
    "## Extract Abortion Data"
   ]
  },
  {
   "cell_type": "code",
   "execution_count": 67,
   "id": "d8cd79f2",
   "metadata": {},
   "outputs": [
    {
     "name": "stdout",
     "output_type": "stream",
     "text": [
      "      year source  compound\n",
      "0     2016    CBS   -0.9989\n",
      "1     2016    CBS    0.8768\n",
      "2     2017    CBS   -0.9698\n",
      "3     2017    CBS    0.9830\n",
      "4     2017    CBS    0.9893\n",
      "...    ...    ...       ...\n",
      "2242  2020    NPR    0.8658\n",
      "2243  2020    NPR    0.9910\n",
      "2244  2020    NPR    0.9234\n",
      "2245  2020    NPR    0.9992\n",
      "2246  2020    NPR   -0.9827\n",
      "\n",
      "[1992 rows x 3 columns]\n"
     ]
    }
   ],
   "source": [
    "# Dataframe with immigration articles\n",
    "condition = article['abortion'].notnull()\n",
    "\n",
    "selected_abortion = article.loc[condition, ['year', 'source', 'compound']]\n",
    "print(selected_abortion)"
   ]
  },
  {
   "cell_type": "code",
   "execution_count": 68,
   "id": "860a2089",
   "metadata": {},
   "outputs": [],
   "source": [
    "ab_2016 = selected_abortion[selected_abortion['year']== 2016]\n",
    "ab_2017 = selected_abortion[selected_abortion['year']== 2017]\n",
    "ab_2018 = selected_abortion[selected_abortion['year']== 2018]\n",
    "ab_2019 = selected_abortion[selected_abortion['year']== 2019]\n",
    "ab_2020 = selected_abortion[selected_abortion['year']== 2020]"
   ]
  },
  {
   "cell_type": "code",
   "execution_count": 69,
   "id": "eaaa569d",
   "metadata": {},
   "outputs": [
    {
     "name": "stdout",
     "output_type": "stream",
     "text": [
      "{'Year': [2016, 2017, 2018, 2019, 2020], 'Immigration': [0.34002094196804006, 0.3146608900876598, 0.34094116871704794, 0.31850441952506564, 0.2852006459948315], 'Racial': [0.29553961218836583, 0.3660570850202431, 0.41591496402877665, 0.38278146214099185, 0.2136149289099527], 'Abortion': [0.45364585741811214, 0.617786614173228, 0.552726287262873, 0.5332698630136986, 0.49413793650793647], 'Socioeconomic': []}\n"
     ]
    }
   ],
   "source": [
    "ab_list = [ab_2016, ab_2017, ab_2018, ab_2019, ab_2020]\n",
    "for item in ab_list:\n",
    "    temp = get_avg(item)\n",
    "    article_sentiment['Abortion'].append(temp)\n",
    "print(article_sentiment)"
   ]
  },
  {
   "cell_type": "markdown",
   "id": "26adc41f",
   "metadata": {},
   "source": [
    "## Extract Socioeconomic Data"
   ]
  },
  {
   "cell_type": "code",
   "execution_count": 70,
   "id": "31ab1962",
   "metadata": {},
   "outputs": [
    {
     "name": "stdout",
     "output_type": "stream",
     "text": [
      "       year source  compound\n",
      "8738   2020    CNN    0.9975\n",
      "8739   2020    CNN   -0.9621\n",
      "8740   2020    CNN   -0.9647\n",
      "8741   2018    FOX    0.7918\n",
      "8770   2020    CNN    0.9996\n",
      "...     ...    ...       ...\n",
      "15909  2020    NPR    0.9986\n",
      "15910  2020    NPR    0.9962\n",
      "15911  2020    NPR    0.9994\n",
      "15912  2020    NPR    0.9987\n",
      "15913  2020    NPR    0.9915\n",
      "\n",
      "[2957 rows x 3 columns]\n"
     ]
    }
   ],
   "source": [
    "# Dataframe with Socioeconomic articles\n",
    "condition = article['socio_eco'].notnull()\n",
    "\n",
    "selected_socio = article.loc[condition, ['year', 'source', 'compound']]\n",
    "print(selected_socio)"
   ]
  },
  {
   "cell_type": "code",
   "execution_count": 71,
   "id": "56054be1",
   "metadata": {},
   "outputs": [],
   "source": [
    "so_2016 = selected_socio[selected_socio['year']== 2016]\n",
    "so_2017 = selected_socio[selected_socio['year']== 2017]\n",
    "so_2018 = selected_socio[selected_socio['year']== 2018]\n",
    "so_2019 = selected_socio[selected_socio['year']== 2019]\n",
    "so_2020 = selected_socio[selected_socio['year']== 2020]"
   ]
  },
  {
   "cell_type": "code",
   "execution_count": 72,
   "id": "7347f0e4",
   "metadata": {},
   "outputs": [
    {
     "name": "stdout",
     "output_type": "stream",
     "text": [
      "{'Year': [2016, 2017, 2018, 2019, 2020], 'Immigration': [0.34002094196804006, 0.3146608900876598, 0.34094116871704794, 0.31850441952506564, 0.2852006459948315], 'Racial': [0.29553961218836583, 0.3660570850202431, 0.41591496402877665, 0.38278146214099185, 0.2136149289099527], 'Abortion': [0.45364585741811214, 0.617786614173228, 0.552726287262873, 0.5332698630136986, 0.49413793650793647], 'Socioeconomic': [0.5646081664098616, 0.5795547945205477, 0.6607073558648113, 0.6954509433962266, 0.5910850549450551]}\n"
     ]
    }
   ],
   "source": [
    "so_list = [so_2016, so_2017, so_2018, so_2019, so_2020]\n",
    "for item in so_list:\n",
    "    temp = get_avg(item)\n",
    "    article_sentiment['Socioeconomic'].append(temp)\n",
    "print(article_sentiment)"
   ]
  },
  {
   "cell_type": "code",
   "execution_count": 73,
   "id": "9d641dc3",
   "metadata": {},
   "outputs": [
    {
     "name": "stdout",
     "output_type": "stream",
     "text": [
      "   Year  Immigration    Racial  Abortion  Socioeconomic\n",
      "0  2016     0.340021  0.295540  0.453646       0.564608\n",
      "1  2017     0.314661  0.366057  0.617787       0.579555\n",
      "2  2018     0.340941  0.415915  0.552726       0.660707\n",
      "3  2019     0.318504  0.382781  0.533270       0.695451\n",
      "4  2020     0.285201  0.213615  0.494138       0.591085\n"
     ]
    }
   ],
   "source": [
    "article_sentiment_df = pd.DataFrame(article_sentiment)\n",
    "print(article_sentiment_df)"
   ]
  },
  {
   "cell_type": "code",
   "execution_count": 77,
   "id": "ecb582e7",
   "metadata": {},
   "outputs": [
    {
     "name": "stdout",
     "output_type": "stream",
     "text": [
      "   Year  art_Immigration  art_Racial  art_Abortion  art_Socioeconomic\n",
      "0  2016         0.340021    0.295540      0.453646           0.564608\n",
      "1  2017         0.314661    0.366057      0.617787           0.579555\n",
      "2  2018         0.340941    0.415915      0.552726           0.660707\n",
      "3  2019         0.318504    0.382781      0.533270           0.695451\n",
      "4  2020         0.285201    0.213615      0.494138           0.591085\n"
     ]
    }
   ],
   "source": [
    "#rename col title to merge data\n",
    "article_sentiment_df = article_sentiment_df.rename(columns={'Immigration': 'art_Immigration', 'Racial': 'art_Racial',\n",
    "                                                           'Abortion': 'art_Abortion', 'Socioeconomic': 'art_Socioeconomic'})\n",
    "print(article_sentiment_df)"
   ]
  },
  {
   "cell_type": "code",
   "execution_count": 78,
   "id": "43d5a008",
   "metadata": {},
   "outputs": [
    {
     "name": "stdout",
     "output_type": "stream",
     "text": [
      "   Year  tw_Immigration  tw_Racial  tw_Abortion  tw_Socioeconomic\n",
      "0  2016       -0.050966  -0.287514    -0.175296          0.078083\n",
      "1  2017       -0.056006  -0.291790    -0.180437          0.078166\n",
      "2  2018       -0.054213  -0.291755    -0.171763          0.078139\n",
      "3  2019       -0.055452  -0.290693    -0.174275          0.078169\n",
      "4  2020       -0.054611  -0.288259    -0.168331          0.078126\n",
      "5  2021       -0.055628  -0.292840    -0.182862          0.078177\n",
      "6  2022       -0.056524  -0.292167    -0.146302          0.078139\n"
     ]
    }
   ],
   "source": [
    "twitter = twitter.rename(columns = {'Immigration': 'tw_Immigration', 'Racial': 'tw_Racial', 'Abortion': 'tw_Abortion', \n",
    "                                   'Socioeconomic': 'tw_Socioeconomic'})\n",
    "print(twitter)"
   ]
  },
  {
   "cell_type": "code",
   "execution_count": 79,
   "id": "a0f5f652",
   "metadata": {},
   "outputs": [
    {
     "name": "stdout",
     "output_type": "stream",
     "text": [
      "   Year  tw_Immigration  tw_Racial  tw_Abortion  tw_Socioeconomic  \\\n",
      "0  2016       -0.050966  -0.287514    -0.175296          0.078083   \n",
      "1  2017       -0.056006  -0.291790    -0.180437          0.078166   \n",
      "2  2018       -0.054213  -0.291755    -0.171763          0.078139   \n",
      "3  2019       -0.055452  -0.290693    -0.174275          0.078169   \n",
      "4  2020       -0.054611  -0.288259    -0.168331          0.078126   \n",
      "5  2021       -0.055628  -0.292840    -0.182862          0.078177   \n",
      "6  2022       -0.056524  -0.292167    -0.146302          0.078139   \n",
      "\n",
      "   art_Immigration  art_Racial  art_Abortion  art_Socioeconomic  \n",
      "0         0.340021    0.295540      0.453646           0.564608  \n",
      "1         0.314661    0.366057      0.617787           0.579555  \n",
      "2         0.340941    0.415915      0.552726           0.660707  \n",
      "3         0.318504    0.382781      0.533270           0.695451  \n",
      "4         0.285201    0.213615      0.494138           0.591085  \n",
      "5              NaN         NaN           NaN                NaN  \n",
      "6              NaN         NaN           NaN                NaN  \n"
     ]
    }
   ],
   "source": [
    "# Assuming df1 and df2 are your DataFrames\n",
    "merged_sentiment = pd.merge(twitter, article_sentiment_df, on='Year', how='outer')\n",
    "print(merged_sentiment)"
   ]
  },
  {
   "cell_type": "code",
   "execution_count": 80,
   "id": "da71fff7",
   "metadata": {},
   "outputs": [],
   "source": []
  },
  {
   "cell_type": "code",
   "execution_count": null,
   "id": "4e1d3123",
   "metadata": {},
   "outputs": [],
   "source": []
  },
  {
   "cell_type": "code",
   "execution_count": null,
   "id": "e53b0374",
   "metadata": {},
   "outputs": [],
   "source": []
  },
  {
   "cell_type": "code",
   "execution_count": null,
   "id": "4ffd7a0b",
   "metadata": {},
   "outputs": [],
   "source": []
  },
  {
   "cell_type": "code",
   "execution_count": null,
   "id": "ba710747",
   "metadata": {},
   "outputs": [],
   "source": []
  },
  {
   "cell_type": "code",
   "execution_count": null,
   "id": "2dd3f918",
   "metadata": {},
   "outputs": [],
   "source": []
  },
  {
   "cell_type": "code",
   "execution_count": null,
   "id": "67af4698",
   "metadata": {},
   "outputs": [],
   "source": []
  },
  {
   "cell_type": "code",
   "execution_count": null,
   "id": "448c4451",
   "metadata": {},
   "outputs": [],
   "source": []
  },
  {
   "cell_type": "code",
   "execution_count": null,
   "id": "f04f941c",
   "metadata": {},
   "outputs": [],
   "source": []
  },
  {
   "cell_type": "code",
   "execution_count": null,
   "id": "bff5359a",
   "metadata": {},
   "outputs": [],
   "source": []
  },
  {
   "cell_type": "code",
   "execution_count": 28,
   "id": "d6812b06",
   "metadata": {},
   "outputs": [
    {
     "data": {
      "text/html": [
       "<div>\n",
       "<style scoped>\n",
       "    .dataframe tbody tr th:only-of-type {\n",
       "        vertical-align: middle;\n",
       "    }\n",
       "\n",
       "    .dataframe tbody tr th {\n",
       "        vertical-align: top;\n",
       "    }\n",
       "\n",
       "    .dataframe thead th {\n",
       "        text-align: right;\n",
       "    }\n",
       "</style>\n",
       "<table border=\"1\" class=\"dataframe\">\n",
       "  <thead>\n",
       "    <tr style=\"text-align: right;\">\n",
       "      <th>Bias Term</th>\n",
       "      <th>Abortion</th>\n",
       "      <th>Immigration</th>\n",
       "      <th>Racial</th>\n",
       "      <th>Socioeconomic</th>\n",
       "    </tr>\n",
       "    <tr>\n",
       "      <th>Year</th>\n",
       "      <th></th>\n",
       "      <th></th>\n",
       "      <th></th>\n",
       "      <th></th>\n",
       "    </tr>\n",
       "  </thead>\n",
       "  <tbody>\n",
       "    <tr>\n",
       "      <th>2016</th>\n",
       "      <td>-0.175296</td>\n",
       "      <td>-0.050966</td>\n",
       "      <td>-0.287514</td>\n",
       "      <td>0.078083</td>\n",
       "    </tr>\n",
       "    <tr>\n",
       "      <th>2017</th>\n",
       "      <td>-0.180437</td>\n",
       "      <td>-0.056006</td>\n",
       "      <td>-0.291790</td>\n",
       "      <td>0.078166</td>\n",
       "    </tr>\n",
       "    <tr>\n",
       "      <th>2018</th>\n",
       "      <td>-0.171763</td>\n",
       "      <td>-0.054213</td>\n",
       "      <td>-0.291755</td>\n",
       "      <td>0.078139</td>\n",
       "    </tr>\n",
       "    <tr>\n",
       "      <th>2019</th>\n",
       "      <td>-0.174275</td>\n",
       "      <td>-0.055452</td>\n",
       "      <td>-0.290693</td>\n",
       "      <td>0.078169</td>\n",
       "    </tr>\n",
       "    <tr>\n",
       "      <th>2020</th>\n",
       "      <td>-0.168331</td>\n",
       "      <td>-0.054611</td>\n",
       "      <td>-0.288259</td>\n",
       "      <td>0.078126</td>\n",
       "    </tr>\n",
       "    <tr>\n",
       "      <th>2021</th>\n",
       "      <td>-0.182862</td>\n",
       "      <td>-0.055628</td>\n",
       "      <td>-0.292840</td>\n",
       "      <td>0.078177</td>\n",
       "    </tr>\n",
       "    <tr>\n",
       "      <th>2022</th>\n",
       "      <td>-0.146302</td>\n",
       "      <td>-0.056524</td>\n",
       "      <td>-0.292167</td>\n",
       "      <td>0.078139</td>\n",
       "    </tr>\n",
       "  </tbody>\n",
       "</table>\n",
       "</div>"
      ],
      "text/plain": [
       "Bias Term  Abortion  Immigration    Racial  Socioeconomic\n",
       "Year                                                     \n",
       "2016      -0.175296    -0.050966 -0.287514       0.078083\n",
       "2017      -0.180437    -0.056006 -0.291790       0.078166\n",
       "2018      -0.171763    -0.054213 -0.291755       0.078139\n",
       "2019      -0.174275    -0.055452 -0.290693       0.078169\n",
       "2020      -0.168331    -0.054611 -0.288259       0.078126\n",
       "2021      -0.182862    -0.055628 -0.292840       0.078177\n",
       "2022      -0.146302    -0.056524 -0.292167       0.078139"
      ]
     },
     "execution_count": 28,
     "metadata": {},
     "output_type": "execute_result"
    }
   ],
   "source": [
    "# data = pd.pivot_table(twitter, values = 'Average Sentiment Score', index = 'Year', columns= \"Bias Term\")\n",
    "# data"
   ]
  },
  {
   "cell_type": "code",
   "execution_count": 53,
   "id": "2651d013",
   "metadata": {},
   "outputs": [
    {
     "data": {
      "text/html": [
       "<div>\n",
       "<style scoped>\n",
       "    .dataframe tbody tr th:only-of-type {\n",
       "        vertical-align: middle;\n",
       "    }\n",
       "\n",
       "    .dataframe tbody tr th {\n",
       "        vertical-align: top;\n",
       "    }\n",
       "\n",
       "    .dataframe thead th {\n",
       "        text-align: right;\n",
       "    }\n",
       "</style>\n",
       "<table border=\"1\" class=\"dataframe\">\n",
       "  <thead>\n",
       "    <tr style=\"text-align: right;\">\n",
       "      <th></th>\n",
       "      <th>year</th>\n",
       "      <th>source</th>\n",
       "      <th>compound</th>\n",
       "    </tr>\n",
       "  </thead>\n",
       "  <tbody>\n",
       "    <tr>\n",
       "      <th>4799</th>\n",
       "      <td>2016</td>\n",
       "      <td>CNN</td>\n",
       "      <td>0.9869</td>\n",
       "    </tr>\n",
       "    <tr>\n",
       "      <th>4800</th>\n",
       "      <td>2016</td>\n",
       "      <td>CNN</td>\n",
       "      <td>0.9171</td>\n",
       "    </tr>\n",
       "    <tr>\n",
       "      <th>4801</th>\n",
       "      <td>2016</td>\n",
       "      <td>CNN</td>\n",
       "      <td>-0.9992</td>\n",
       "    </tr>\n",
       "    <tr>\n",
       "      <th>4834</th>\n",
       "      <td>2016</td>\n",
       "      <td>CNN</td>\n",
       "      <td>0.9977</td>\n",
       "    </tr>\n",
       "    <tr>\n",
       "      <th>4896</th>\n",
       "      <td>2016</td>\n",
       "      <td>CNN</td>\n",
       "      <td>-0.9967</td>\n",
       "    </tr>\n",
       "  </tbody>\n",
       "</table>\n",
       "</div>"
      ],
      "text/plain": [
       "      year source  compound\n",
       "4799  2016    CNN    0.9869\n",
       "4800  2016    CNN    0.9171\n",
       "4801  2016    CNN   -0.9992\n",
       "4834  2016    CNN    0.9977\n",
       "4896  2016    CNN   -0.9967"
      ]
     },
     "execution_count": 53,
     "metadata": {},
     "output_type": "execute_result"
    }
   ],
   "source": []
  }
 ],
 "metadata": {
  "kernelspec": {
   "display_name": "Python 3.9.6 64-bit",
   "language": "python",
   "name": "python3"
  },
  "language_info": {
   "codemirror_mode": {
    "name": "ipython",
    "version": 3
   },
   "file_extension": ".py",
   "mimetype": "text/x-python",
   "name": "python",
   "nbconvert_exporter": "python",
   "pygments_lexer": "ipython3",
   "version": "3.9.6"
  },
  "vscode": {
   "interpreter": {
    "hash": "31f2aee4e71d21fbe5cf8b01ff0e069b9275f58929596ceb00d14d90e3e16cd6"
   }
  }
 },
 "nbformat": 4,
 "nbformat_minor": 5
}
